{
 "cells": [
  {
   "cell_type": "markdown",
   "id": "73771cbc",
   "metadata": {},
   "source": [
    "## Calculate scaling factor to put a and b on same scale\n",
    "This version runs on intcorr output from Xgremlin.\n",
    "Using all lines above given SNR, regardless of identification"
   ]
  },
  {
   "cell_type": "code",
   "execution_count": 1,
   "id": "9e7c6a91",
   "metadata": {},
   "outputs": [],
   "source": [
    "file1 = \"Fe042222a.001.intcorr\"\n",
    "file2 = \"Fe042222b.001.intcorr\"\n",
    "SNR= 50"
   ]
  },
  {
   "cell_type": "code",
   "execution_count": 2,
   "id": "2845d57a",
   "metadata": {},
   "outputs": [
    {
     "name": "stdout",
     "output_type": "stream",
     "text": [
      "Mean: 0.3701 Std. Dev: 0.0158 from 42 values; 0 outliers rejected\n",
      "\n"
     ]
    },
    {
     "data": {
      "image/png": "[encoded data removed]",
      "text/plain": [
       "<Figure size 432x288 with 1 Axes>"
      ]
     },
     "metadata": {
      "needs_background": "light"
     },
     "output_type": "display_data"
    }
   ],
   "source": [
    "#!/usr/bin/env python\n",
    "import numpy as np\n",
    "import matplotlib.pyplot as plt\n",
    "\n",
    "\n",
    "afile = open(file1)\n",
    "bfile = open(file2)\n",
    "\n",
    "wnum=[]\n",
    "inten=[]\n",
    "wnumplot = []\n",
    "ratio_ab = []\n",
    "\n",
    "def reject_outliers(data):\n",
    "    return data[abs(data - np.mean(data)) < 3 * np.std(data)]\n",
    "\n",
    "for line in afile:\n",
    "    line=line.split()\n",
    "    if line[0].isnumeric():\n",
    "        if float(line[2]) > SNR :\n",
    "            wnum.append(float(line[1]))\n",
    "            inten.append(float(line[5]))\n",
    "\n",
    "for line in bfile:\n",
    "    line=line.split()\n",
    "    if line[0].isnumeric():\n",
    "        if float(line[2])> SNR:\n",
    "            wnumb = float(line[1])\n",
    "            intenb = float(line[5])\n",
    "            for i in wnum:\n",
    "                if -0.2< wnumb-i <0.2:\n",
    "                    inten_ratio = inten[wnum.index(i)]/intenb\n",
    "                    wnumplot.append(wnumb)\n",
    "                    ratio_ab.append(inten_ratio)\n",
    "#                    print( \"%10.4f %6.4f \" % (wnumb, inten_ratio))\n",
    "\n",
    "\n",
    "data_rej = reject_outliers(np.array(ratio_ab))\n",
    "scale_mean = np.mean(data_rej)\n",
    "scale_std = np.std(data_rej)\n",
    "print (\"Mean: %6.4f Std. Dev: %6.4f from %d values; %d outliers rejected\\n\" % (scale_mean, scale_std, len(data_rej), len(ratio_ab)-len(data_rej) ))\n",
    "\n",
    "fig,ax=plt.subplots()\n",
    "ax.plot(wnumplot,ratio_ab,'r+')\n",
    "ax.set(xlabel=\"Wavenumber (cm-1)\",ylabel = \"Scaling factor\",title = file1)\n",
    "plt.show()"
   ]
  },
  {
   "cell_type": "markdown",
   "id": "1c37f1ad",
   "metadata": {},
   "source": [
    "No significant slope on this plot and the standard deviation looks OK"
   ]
  },
  {
   "cell_type": "markdown",
   "id": "8d912499",
   "metadata": {},
   "source": [
    "### Scale detector B to detector A and combine the two detectors using weighted mean\n",
    "\n",
    "Use the square of the SNR as the weighting factor. Cap the SNR at 100 so that strong lines seen in both detectors are equally weighted."
   ]
  },
  {
   "cell_type": "code",
   "execution_count": 3,
   "id": "101df47f",
   "metadata": {},
   "outputs": [],
   "source": [
    "import numpy as np\n",
    "\n",
    "afile = open(\"Fe042222a.001.intcorr\")\n",
    "bfile = open(\"Fe042222b.001.intcorr\")\n",
    "outfile = open(\"Fe042222.001.combined\",'w')\n",
    "\n",
    "wnum=[]\n",
    "inten=[]\n",
    "wt=[]\n",
    "outline=[]\n",
    "fwhm=[]\n",
    "\n",
    "# print(\"Scaling factor: \",scale_mean)\n",
    "# print(\"Wavenumber     SNR     FWHM    Inten\")\n",
    "\n",
    "for line in afile:\n",
    "    line=line.split()\n",
    "    if line[0].isnumeric():\n",
    "        wnum.append(float(line[1]))\n",
    "        inten.append(float(line[5]))\n",
    "        wt.append(min(10000,(float(line[2])**2)))  # Set max. SNR of 100\n",
    "        fwhm.append(line[3])\n",
    "\n",
    "prt=0\n",
    "for line in bfile:\n",
    "    line=line.split()\n",
    "    if line[0].isnumeric():\n",
    "        wnumb = float(line[1])\n",
    "        intenb = scale_mean*float(line[5])\n",
    "        mtc=0\n",
    "\n",
    "        for i in wnum:\n",
    "            if -0.2< wnumb-i <0.2:\n",
    "                mtc=1\n",
    "                idx=wnum.index(i)\n",
    "                weight=min(10000,float(line[2])**2)  # Set max. SNR of 100\n",
    "                awt=wt[wnum.index(i)]                # Weight from detector A\n",
    "                \n",
    "                aveinten=np.average([intenb,inten[idx]],weights=(weight,awt))   #Weighted mean intensity\n",
    "# Calculate standard deviation based on minimum of next two functions. See Liggins, ApJS 252, 10 for details.             \n",
    "                std1=np.sqrt(np.average(((intenb-aveinten)**2,(inten[idx]-aveinten)**2), weights=(weight,awt)))\n",
    "                std2=aveinten/np.sqrt(weight+awt)\n",
    "                stdinten=max(std1,std2)\n",
    "#                print(\"%10.4f %6d %6d   %6d %6.0f  \" %(wnumb,intenb,inten[idx],aveinten,aveinten/stdinten))\n",
    "                outline.append((wnumb,aveinten/stdinten,line[3],aveinten))\n",
    "                prt+=1\n",
    "# Delete the ones we've used\n",
    "                del inten[idx]\n",
    "                del wt[idx]\n",
    "                del wnum[idx]\n",
    "                del fwhm[idx]\n",
    "\n",
    "# Add the ones from detector B that didn't match to the output array\n",
    "        if mtc==0:\n",
    "#            print(\"%10.4f        %6d            %4.0f\" %(wnumb,intenb,min(100,float(line[2]))))\n",
    "            outline.append((wnumb,min(100,float(line[2])),line[3],intenb))\n",
    "            prt+=1\n",
    "\n",
    "        # And then the ones from detector A that didn't match - the ones left after deleting the matching ones\n",
    "for i in wnum:\n",
    "    idx=wnum.index(i)\n",
    "#    print(\"%10.4f %6d                   %4.0f\" %(i,inten[idx],min(100,wt[idx])))\n",
    "    outline.append((i,min(100,np.sqrt(wt[idx])),fwhm[idx],inten[idx]))\n",
    "    prt+=1\n",
    "outline.sort()\n",
    "\n",
    "# Write the lines out to the new .intcorr file\n",
    "n=0\n",
    "for i in outline:\n",
    "#    print (\"%10.4f     %3d     %4d  %7d\" % ( i[0],i[1],float(i[2]),i[3]))\n",
    "    outfile.write(\"%3d %10.4f     %3d     %4d   - %7d\\n\" % ( n,i[0],i[1],float(i[2]),i[3]))\n",
    "    n+=1\n",
    "\n",
    "outfile.close()"
   ]
  },
  {
   "cell_type": "markdown",
   "id": "eba3670d",
   "metadata": {},
   "source": [
    "### Now match everything up to identifications"
   ]
  },
  {
   "cell_type": "code",
   "execution_count": 4,
   "id": "99394eb9",
   "metadata": {},
   "outputs": [],
   "source": [
    "import math\n",
    " \n",
    "brfile= open(\"Fe042222.001.combined\")\n",
    "outfile= open(\"Fe042222c.001.II\",'w')\n",
    "idfile = open(\"FeII.GN\")\n",
    "\n",
    "resoln = 0.1\n",
    "wlow = 40000.\n",
    "whi = 66000."
   ]
  },
  {
   "cell_type": "code",
   "execution_count": 5,
   "id": "df7df9c6",
   "metadata": {},
   "outputs": [],
   "source": [
    "outfile.write(\"%s %s %s\\n\" % (resoln, wlow, whi))\n",
    "\n",
    "idlow=[]\n",
    "elow=[]\n",
    "idupp=[]\n",
    "eupp=[]\n",
    "wl=[]\n",
    "\n",
    "for line in idfile:\n",
    "    line=line.split()\n",
    "    idlow.append(line[6])\n",
    "    elow.append(line[6])\n",
    "    idupp.append(line[7])\n",
    "    eupp.append(line[7])\n",
    "\n",
    "    wl.append(line[4])\n",
    "\n",
    "for line in brfile:\n",
    "  line=line.split()\n",
    "  if str.isdigit(line[0]):\n",
    "    wno = float(line[1])\n",
    "    snr = line[2]\n",
    "    fwhm = line[3]\n",
    "    inten = line[5]\n",
    "#    wlen = float(line[15])*10.\n",
    "    wlen = 1e8/wno\n",
    "#    print(wno,snr,fwhm,inten)\n",
    "    for wavel in wl:\n",
    "        if -0.25  < float(wavel) - wno < 0.25 :\n",
    "            idl = idlow[wl.index(wavel)]\n",
    "            idu = idupp[wl.index(wavel)]\n",
    "            outfile.write(\"%-5.0f %6.0f  %7.2f %8.3f  %10.3f   II   %s - %s\\n\" % (float(snr),float(inten),float(fwhm),wlen,wno,idl,idu))\n",
    "\n",
    "outfile.close()\n"
   ]
  },
  {
   "cell_type": "markdown",
   "id": "a5126003",
   "metadata": {},
   "source": [
    "## Calculate the wavenumber correction factors"
   ]
  },
  {
   "cell_type": "code",
   "execution_count": 6,
   "id": "d7d1ece8",
   "metadata": {},
   "outputs": [
    {
     "name": "stdout",
     "output_type": "stream",
     "text": [
      "Mean: -1.97e-06 +- 1.66e-08 from 85 values; 1 outliers rejected\n",
      "\n"
     ]
    },
    {
     "data": {
      "image/png": "[encoded data removed]",
      "text/plain": [
       "<Figure size 432x288 with 1 Axes>"
      ]
     },
     "metadata": {
      "needs_background": "light"
     },
     "output_type": "display_data"
    }
   ],
   "source": [
    "import numpy as np\n",
    "import matplotlib.pyplot as plt\n",
    "\n",
    "file1=\"Fe042222a.001.intcorr\"\n",
    "afile = open(file1)\n",
    "calfile = open(\"fe.wcal\")\n",
    "\n",
    "def reject_outliers(data):\n",
    "    return data[abs(data - np.mean(data)) < 3 * np.std(data)]\n",
    "\n",
    "wl=[]\n",
    "wlen = []\n",
    "wdiff=[]\n",
    "\n",
    "for line in calfile:\n",
    "    line=line.split()\n",
    "    wl.append(float(line[0]))\n",
    "        \n",
    "for line in afile:\n",
    "    line=line.split()\n",
    "    try:\n",
    "        wsig = float(line[1])\n",
    "    except:\n",
    "        continue\n",
    "#    print (wsig,float(line[2]))\n",
    "    if float(line[2]) > 100:\n",
    "        for i in wl:\n",
    "            if -0.25 < wsig-i < 0.25:\n",
    "                wlen.append(wsig)\n",
    "                wdiff.append((wsig-i)/wsig)\n",
    "        \n",
    "data_rej = reject_outliers(np.array(wdiff))\n",
    "scale_mean = np.mean(data_rej)\n",
    "scale_std = np.std(data_rej)/np.sqrt(len(wdiff))\n",
    "print (\"Mean: %6.2e +- %6.2e from %d values; %d outliers rejected\\n\" % (scale_mean, scale_std, len(wdiff), len(wdiff)-len(data_rej) ))\n",
    "\n",
    "plt.axes(ylim=[-3e-6,-1.5e-6],xlim=[36000,47000])\n",
    "plt.scatter(wlen,wdiff)\n",
    "plt.xlabel(\"Wavenumber (cm-1)\")\n",
    "plt.ylabel(\"keff\")\n",
    "plt.title(file1)\n",
    "plt.show()"
   ]
  },
  {
   "cell_type": "markdown",
   "id": "a22622ff",
   "metadata": {},
   "source": [
    "There is a significant slope on this plot. This would make it hard to use it for separation of blends using C of G. Perhaps it would work if the local wavenumber correction is applied."
   ]
  },
  {
   "cell_type": "code",
   "execution_count": 7,
   "id": "b2372c07",
   "metadata": {},
   "outputs": [
    {
     "name": "stdout",
     "output_type": "stream",
     "text": [
      "Mean: -3.06e-06 +- 3.33e-08 from 28 values; 1 outliers rejected\n",
      "\n"
     ]
    },
    {
     "data": {
      "image/png": "[encoded data removed]",
      "text/plain": [
       "<Figure size 432x288 with 1 Axes>"
      ]
     },
     "metadata": {
      "needs_background": "light"
     },
     "output_type": "display_data"
    }
   ],
   "source": [
    "import numpy as np\n",
    "import matplotlib.pyplot as plt\n",
    "\n",
    "file1=\"Fe042222b.001.intcorr\"\n",
    "afile = open(file1)\n",
    "calfile = open(\"fe.wcal\")\n",
    "\n",
    "def reject_outliers(data):\n",
    "    return data[abs(data - np.mean(data)) < 3 * np.std(data)]\n",
    "\n",
    "wl=[]\n",
    "wlen = []\n",
    "wdiff=[]\n",
    "\n",
    "for line in calfile:\n",
    "    line=line.split()\n",
    "    wl.append(float(line[0]))\n",
    "        \n",
    "for line in afile:\n",
    "    line=line.split()\n",
    "    try:\n",
    "        wsig = float(line[1])\n",
    "    except:\n",
    "        continue\n",
    "#    print (wsig,float(line[2]))\n",
    "    if float(line[2]) > 100:\n",
    "        for i in wl:\n",
    "            if -0.25 < wsig-i < 0.25:\n",
    "                wlen.append(wsig)\n",
    "                wdiff.append((wsig-i)/wsig)\n",
    "        \n",
    "data_rej = reject_outliers(np.array(wdiff))\n",
    "scale_mean = np.average(data_rej)#,weights=wt)\n",
    "scale_std = np.std(data_rej)/np.sqrt(len(wdiff))\n",
    "print (\"Mean: %6.2e +- %6.2e from %d values; %d outliers rejected\\n\" % (scale_mean, scale_std, len(wdiff), len(wdiff)-len(data_rej) ))\n",
    "\n",
    "plt.axes(ylim=[-4e-6,-2.5e-6],xlim=[35000,65000])\n",
    "plt.scatter(wlen,wdiff)\n",
    "plt.xlabel(\"Wavenumber (cm-1)\")\n",
    "plt.ylabel(\"keff\")\n",
    "plt.title(file1)\n",
    "plt.show()"
   ]
  },
  {
   "cell_type": "markdown",
   "id": "c0bcad83",
   "metadata": {},
   "source": [
    "A similar slope is seen on this plot, making it hard to use for separation of blends."
   ]
  },
  {
   "cell_type": "code",
   "execution_count": null,
   "id": "4d287eeb",
   "metadata": {},
   "outputs": [],
   "source": []
  }
 ],
 "metadata": {
  "kernelspec": {
   "display_name": "Python 3 (ipykernel)",
   "language": "python",
   "name": "python3"
  },
  "language_info": {
   "codemirror_mode": {
    "name": "ipython",
    "version": 3
   },
   "file_extension": ".py",
   "mimetype": "text/x-python",
   "name": "python",
   "nbconvert_exporter": "python",
   "pygments_lexer": "ipython3",
   "version": "3.11.5"
  }
 },
 "nbformat": 4,
 "nbformat_minor": 5
}
