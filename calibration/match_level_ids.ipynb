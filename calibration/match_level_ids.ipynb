{
 "cells": [
  {
   "cell_type": "code",
   "execution_count": 4,
   "id": "ed8354c7-6c38-413f-b4e4-cd2c1fa97696",
   "metadata": {},
   "outputs": [],
   "source": [
    "levfile = open(\"fe_ii.lev\")\n",
    "levs={}\n",
    "\n",
    "for lev in levfile:\n",
    "    if(len(lev))==65:\n",
    "       levs[lev[3:13]]=lev[54:64]+\" \"\n",
    "    else:\n",
    "       levs[lev[3:13]]=lev[54:65]\n",
    "#print(levs)"
   ]
  },
  {
   "cell_type": "code",
   "execution_count": 6,
   "id": "a840f90b-59d6-4fbb-8a8c-563977cbad6b",
   "metadata": {},
   "outputs": [],
   "source": [
    "linefile = open(\"feII.new\")\n",
    "outfile = open(\"FeII.GN_new\",'w')\n",
    "\n",
    "for line in linefile:\n",
    "    upper=\"\"\n",
    "    lower=\"\"\n",
    "    if line[69:79] in levs:\n",
    "        upper = levs[line[69:79]]\n",
    "    if line[57:67] in levs:\n",
    "        lower = levs[line[57:67]]\n",
    "    if upper !=\"\" and lower !=\"\":\n",
    "        if line[1] ==' ' and float(line[31:42])> 30780:\n",
    "            instrum = 'G'\n",
    "            inten = line[2:6]\n",
    "            if inten == \"    \":\n",
    "                inten = \"  - \"\n",
    "            print(line[31:42],instrum,inten)\n",
    "        elif float(line[31:42])<30780:\n",
    "            instrum = 'V'\n",
    "            inten = line[2:6]\n",
    "        else:\n",
    "            instrum = line[1]\n",
    "            inten = line[2:6]\n",
    "        outfile.write(\"%1s %s %s %s  %s %s\" % (instrum, inten, line[11:53],lower,upper,line[80:]))\n",
    "#        print(\"%s %s %s %s - %s %s\" % (instrum, inten, line[11:55],lower,upper,line[80:]))\n"
   ]
  },
  {
   "cell_type": "code",
   "execution_count": null,
   "id": "b42bf1e1-d881-4201-a7d3-54a4666f402b",
   "metadata": {},
   "outputs": [],
   "source": []
  }
 ],
 "metadata": {
  "kernelspec": {
   "display_name": "Python 3 (ipykernel)",
   "language": "python",
   "name": "python3"
  },
  "language_info": {
   "codemirror_mode": {
    "name": "ipython",
    "version": 3
   },
   "file_extension": ".py",
   "mimetype": "text/x-python",
   "name": "python",
   "nbconvert_exporter": "python",
   "pygments_lexer": "ipython3",
   "version": "3.11.5"
  }
 },
 "nbformat": 4,
 "nbformat_minor": 5
}
